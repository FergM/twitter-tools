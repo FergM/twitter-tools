{
 "cells": [
  {
   "cell_type": "markdown",
   "metadata": {},
   "source": [
    "# Get List Members\n",
    "Find the accounts which are members of a chosen twitter list\n",
    "\n",
    "Twitter Documentation:\n",
    "* [twitter-api/lists/list-lookup](https://developer.twitter.com/en/docs/twitter-api/lists/list-lookup/api-reference/get-lists-id)"
   ]
  },
  {
   "cell_type": "code",
   "execution_count": 1,
   "metadata": {},
   "outputs": [],
   "source": [
    "import pandas as pd\n",
    "\n",
    "# Add parent directory to path for imports\n",
    "import sys; sys.path.insert(0, '../')\n",
    "\n",
    "from twitter_tools import list_member_lookup as list_util"
   ]
  },
  {
   "cell_type": "markdown",
   "metadata": {},
   "source": [
    "### Functions"
   ]
  },
  {
   "cell_type": "code",
   "execution_count": 2,
   "metadata": {},
   "outputs": [],
   "source": [
    "def get_list_member_info(list_id):\n",
    "\n",
    "    # Prepare inputs\n",
    "    url, user_fields = list_util.create_url(list_id)\n",
    "\n",
    "    # Ping the API\n",
    "    # Only fetches up to 100 members, doesn't page to fetch more members\n",
    "    json_response = list_util.connect_to_endpoint(url, user_fields)\n",
    "    \n",
    "    return json_response"
   ]
  },
  {
   "cell_type": "code",
   "execution_count": 3,
   "metadata": {},
   "outputs": [],
   "source": [
    "def parse_list_member_info(json_response):\n",
    "\n",
    "    # Parse the Response\n",
    "\n",
    "    # Create DataFrame\n",
    "    df = pd.DataFrame(json_response['data'])\n",
    "\n",
    "    # Set Index\n",
    "    df.set_index('username', inplace=True)\n",
    "\n",
    "    # Select Columns\n",
    "    columns = ['name', 'description']\n",
    "    df = df.loc[:, columns].copy()\n",
    "    \n",
    "    return df"
   ]
  },
  {
   "cell_type": "markdown",
   "metadata": {},
   "source": [
    "# Main Example"
   ]
  },
  {
   "cell_type": "code",
   "execution_count": 4,
   "metadata": {},
   "outputs": [],
   "source": [
    "# Settings\n",
    "list_id = 1322508700649750528  # Traditional Architecture\n",
    "#list_id = 130385922 # Women in Data Science"
   ]
  },
  {
   "cell_type": "code",
   "execution_count": 5,
   "metadata": {},
   "outputs": [
    {
     "name": "stdout",
     "output_type": "stream",
     "text": [
      "200\n"
     ]
    }
   ],
   "source": [
    "# Fetch Data\n",
    "json_response = get_list_member_info(list_id)"
   ]
  },
  {
   "cell_type": "code",
   "execution_count": 6,
   "metadata": {},
   "outputs": [
    {
     "data": {
      "text/html": [
       "<div>\n",
       "<style scoped>\n",
       "    .dataframe tbody tr th:only-of-type {\n",
       "        vertical-align: middle;\n",
       "    }\n",
       "\n",
       "    .dataframe tbody tr th {\n",
       "        vertical-align: top;\n",
       "    }\n",
       "\n",
       "    .dataframe thead th {\n",
       "        text-align: right;\n",
       "    }\n",
       "</style>\n",
       "<table border=\"1\" class=\"dataframe\">\n",
       "  <thead>\n",
       "    <tr style=\"text-align: right;\">\n",
       "      <th></th>\n",
       "      <th>name</th>\n",
       "      <th>description</th>\n",
       "    </tr>\n",
       "    <tr>\n",
       "      <th>username</th>\n",
       "      <th></th>\n",
       "      <th></th>\n",
       "    </tr>\n",
       "  </thead>\n",
       "  <tbody>\n",
       "    <tr>\n",
       "      <th>michael_diamant</th>\n",
       "      <td>Michael Diamant</td>\n",
       "      <td>Promoter of trad urban planning (early 1900s c...</td>\n",
       "    </tr>\n",
       "    <tr>\n",
       "      <th>SCP_Hughes</th>\n",
       "      <td>Samuel Hughes</td>\n",
       "      <td>Research Fellow at University of Oxford; Senio...</td>\n",
       "    </tr>\n",
       "    <tr>\n",
       "      <th>CharlestonArchi</th>\n",
       "      <td>Architecture Atelier and T-Square Society</td>\n",
       "      <td>Some posts here are rhetorical but this one is...</td>\n",
       "    </tr>\n",
       "    <tr>\n",
       "      <th>ImprctclArchtct</th>\n",
       "      <td>Hugh Kavanagh</td>\n",
       "      <td>An impractical classical architect/teacher and...</td>\n",
       "    </tr>\n",
       "    <tr>\n",
       "      <th>Cobylefko</th>\n",
       "      <td>Coby</td>\n",
       "      <td>Urbanist, Developer, Writer, &amp; Optimist. Worki...</td>\n",
       "    </tr>\n",
       "    <tr>\n",
       "      <th>intbauireland</th>\n",
       "      <td>INTBAU Ireland</td>\n",
       "      <td>The all-island Irish Chapter of the Internatio...</td>\n",
       "    </tr>\n",
       "    <tr>\n",
       "      <th>Trad_Arch_Bdays</th>\n",
       "      <td>Traditional Architect Birthdays</td>\n",
       "      <td>Traditional architect posting traditional arch...</td>\n",
       "    </tr>\n",
       "    <tr>\n",
       "      <th>wrathofgnon</th>\n",
       "      <td>Wrath Of Gnon</td>\n",
       "      <td>Traditionalist. https://t.co/t008rR8GZP\\n#Good...</td>\n",
       "    </tr>\n",
       "    <tr>\n",
       "      <th>sharp_architect</th>\n",
       "      <td>Robert Sharp</td>\n",
       "      <td>Architect specializing in New Urbanism, energy...</td>\n",
       "    </tr>\n",
       "    <tr>\n",
       "      <th>createstreets</th>\n",
       "      <td>createstreets</td>\n",
       "      <td>Social enterprise &amp; research: co-creating popu...</td>\n",
       "    </tr>\n",
       "    <tr>\n",
       "      <th>RobertKwolek</th>\n",
       "      <td>Robert Kwolek</td>\n",
       "      <td>Beauty. Architecture. Urbanism.\\nhttps://t.co/...</td>\n",
       "    </tr>\n",
       "    <tr>\n",
       "      <th>dubcivictrust</th>\n",
       "      <td>Dublin Civic Trust</td>\n",
       "      <td>An independent charitable organisation working...</td>\n",
       "    </tr>\n",
       "    <tr>\n",
       "      <th>Nir_Buras</th>\n",
       "      <td>Nir Buras</td>\n",
       "      <td>#Architect &amp; #urbanist, using #classical metho...</td>\n",
       "    </tr>\n",
       "    <tr>\n",
       "      <th>LeonKrier</th>\n",
       "      <td>Léon Krier</td>\n",
       "      <td>Dedicated to the architecture and design work ...</td>\n",
       "    </tr>\n",
       "    <tr>\n",
       "      <th>IrishGeorgian</th>\n",
       "      <td>Irish Georgian Society</td>\n",
       "      <td>Not for profit organisation that promotes the ...</td>\n",
       "    </tr>\n",
       "    <tr>\n",
       "      <th>archiseek</th>\n",
       "      <td>Paul Clerkin</td>\n",
       "      <td>Publisher of Irish architecture website https:...</td>\n",
       "    </tr>\n",
       "  </tbody>\n",
       "</table>\n",
       "</div>"
      ],
      "text/plain": [
       "                                                      name  \\\n",
       "username                                                     \n",
       "michael_diamant                            Michael Diamant   \n",
       "SCP_Hughes                                   Samuel Hughes   \n",
       "CharlestonArchi  Architecture Atelier and T-Square Society   \n",
       "ImprctclArchtct                              Hugh Kavanagh   \n",
       "Cobylefko                                             Coby   \n",
       "intbauireland                               INTBAU Ireland   \n",
       "Trad_Arch_Bdays            Traditional Architect Birthdays   \n",
       "wrathofgnon                                  Wrath Of Gnon   \n",
       "sharp_architect                               Robert Sharp   \n",
       "createstreets                                createstreets   \n",
       "RobertKwolek                                 Robert Kwolek   \n",
       "dubcivictrust                           Dublin Civic Trust   \n",
       "Nir_Buras                                        Nir Buras   \n",
       "LeonKrier                                       Léon Krier   \n",
       "IrishGeorgian                       Irish Georgian Society   \n",
       "archiseek                                     Paul Clerkin   \n",
       "\n",
       "                                                       description  \n",
       "username                                                            \n",
       "michael_diamant  Promoter of trad urban planning (early 1900s c...  \n",
       "SCP_Hughes       Research Fellow at University of Oxford; Senio...  \n",
       "CharlestonArchi  Some posts here are rhetorical but this one is...  \n",
       "ImprctclArchtct  An impractical classical architect/teacher and...  \n",
       "Cobylefko        Urbanist, Developer, Writer, & Optimist. Worki...  \n",
       "intbauireland    The all-island Irish Chapter of the Internatio...  \n",
       "Trad_Arch_Bdays  Traditional architect posting traditional arch...  \n",
       "wrathofgnon      Traditionalist. https://t.co/t008rR8GZP\\n#Good...  \n",
       "sharp_architect  Architect specializing in New Urbanism, energy...  \n",
       "createstreets    Social enterprise & research: co-creating popu...  \n",
       "RobertKwolek     Beauty. Architecture. Urbanism.\\nhttps://t.co/...  \n",
       "dubcivictrust    An independent charitable organisation working...  \n",
       "Nir_Buras        #Architect & #urbanist, using #classical metho...  \n",
       "LeonKrier        Dedicated to the architecture and design work ...  \n",
       "IrishGeorgian    Not for profit organisation that promotes the ...  \n",
       "archiseek        Publisher of Irish architecture website https:...  "
      ]
     },
     "execution_count": 6,
     "metadata": {},
     "output_type": "execute_result"
    }
   ],
   "source": [
    "# Parse Data\n",
    "df = parse_list_member_info(json_response)\n",
    "df"
   ]
  },
  {
   "cell_type": "markdown",
   "metadata": {},
   "source": [
    "# Roughwork"
   ]
  },
  {
   "cell_type": "code",
   "execution_count": 7,
   "metadata": {},
   "outputs": [
    {
     "name": "stdout",
     "output_type": "stream",
     "text": [
      "Response Keys:\n",
      "* data\n",
      "* meta\n",
      "\t {'result_count': 16}\n"
     ]
    }
   ],
   "source": [
    "# Response Summary\n",
    "print('Response Keys:')\n",
    "for key in json_response.keys():\n",
    "\n",
    "    print(f'* {key}')\n",
    "    if key != 'data':\n",
    "        print('\\t', json_response[key])\n"
   ]
  },
  {
   "cell_type": "code",
   "execution_count": null,
   "metadata": {},
   "outputs": [],
   "source": []
  }
 ],
 "metadata": {
  "kernelspec": {
   "display_name": "Python (myenv)",
   "language": "python",
   "name": "env"
  },
  "language_info": {
   "codemirror_mode": {
    "name": "ipython",
    "version": 3
   },
   "file_extension": ".py",
   "mimetype": "text/x-python",
   "name": "python",
   "nbconvert_exporter": "python",
   "pygments_lexer": "ipython3",
   "version": "3.9.2"
  },
  "widgets": {
   "application/vnd.jupyter.widget-state+json": {
    "state": {},
    "version_major": 2,
    "version_minor": 0
   }
  }
 },
 "nbformat": 4,
 "nbformat_minor": 4
}
